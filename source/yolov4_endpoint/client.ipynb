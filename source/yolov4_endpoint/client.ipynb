{
 "cells": [
  {
   "cell_type": "code",
   "execution_count": 12,
   "metadata": {},
   "outputs": [
    {
     "name": "stdout",
     "output_type": "stream",
     "text": [
      "{'status': 'Healthy'}\n"
     ]
    }
   ],
   "source": [
    "!curl http://localhost:8080/ping "
   ]
  },
  {
   "cell_type": "code",
   "execution_count": 40,
   "metadata": {},
   "outputs": [
    {
     "name": "stdout",
     "output_type": "stream",
     "text": [
      "<!DOCTYPE HTML PUBLIC \"-//W3C//DTD HTML 3.2 Final//EN\">\n",
      "<title>500 Internal Server Error</title>\n",
      "<h1>Internal Server Error</h1>\n",
      "<p>The server encountered an internal error and was unable to complete your request. Either the server is overloaded or there is an error in the application.</p>\n",
      "\n"
     ]
    }
   ],
   "source": [
    "# curl\n",
    "import requests\n",
    "import json\n",
    "\n",
    "url='http://localhost:8080/invocations'\n",
    "\n",
    "bucket = 'spot-bot-asset'\n",
    "image_uri = 'end/test2.jpg'\n",
    "test_data = {\n",
    "    'bucket' : bucket,\n",
    "    'image_uri' : image_uri,\n",
    "    'content_type': \"application/json\",\n",
    "}\n",
    "payload = json.dumps(test_data)\n",
    "\n",
    "\n",
    "r = requests.post(url,data=payload)\n",
    "\n",
    "#show result\n",
    "print (r.text)"
   ]
  },
  {
   "cell_type": "code",
   "execution_count": 47,
   "metadata": {},
   "outputs": [
    {
     "name": "stdout",
     "output_type": "stream",
     "text": [
      "CPU times: user 4 µs, sys: 1 µs, total: 5 µs\n",
      "Wall time: 9.3 µs\n"
     ]
    }
   ],
   "source": [
    "%%time \n",
    "\n",
    "def infer(input_image):\n",
    "    from boto3.session import Session\n",
    "    import json\n",
    "\n",
    "    bucket = 'spot-bot-asset'\n",
    "    image_uri = input_image\n",
    "    test_data = {\n",
    "        'bucket' : bucket,\n",
    "        'image_uri' : image_uri,\n",
    "        'content_type': \"application/json\",\n",
    "    }\n",
    "    payload = json.dumps(test_data)\n",
    "\n",
    "\n",
    "    session = Session()\n",
    "\n",
    "    runtime = session.client(\"runtime.sagemaker\")\n",
    "    response = runtime.invoke_endpoint(\n",
    "        EndpointName='esd-crnn',\n",
    "        ContentType=\"application/json\",\n",
    "        Body=payload)\n",
    "\n",
    "    result = json.loads(response[\"Body\"].read())\n",
    "    print (result)"
   ]
  },
  {
   "cell_type": "code",
   "execution_count": 51,
   "metadata": {},
   "outputs": [
    {
     "name": "stdout",
     "output_type": "stream",
     "text": [
      "{'result': 'Hﺋ\\ue82cﺥ'}\n",
      "{'result': '粜秽ｌ分行名耨'}\n",
      "{'result': '粜秽ｌ分行名耨'}\n",
      "{'result': '粜秽ｌ分行名耨'}\n",
      "{'result': '粜秽ｌ分行名耨'}\n",
      "{'result': '粜秽ｌ分行名耨'}\n",
      "[None, None, None, None, None, None]\n",
      "CPU times: user 24.6 ms, sys: 17.9 ms, total: 42.5 ms\n",
      "Wall time: 3.91 s\n"
     ]
    }
   ],
   "source": [
    "%%time \n",
    "import multiprocessing as mul\n",
    "\n",
    "pool = mul.Pool(5)\n",
    "rel = pool.map(infer, ['end/test2.jpg','end/test.jpg','end/test2.jpg','end/test2.jpg','end/test2.jpg','end/test2.jpg'])\n",
    "print(rel)"
   ]
  },
  {
   "cell_type": "code",
   "execution_count": 50,
   "metadata": {},
   "outputs": [
    {
     "name": "stdout",
     "output_type": "stream",
     "text": [
      "{'result': '粜秽ｌ分行名耨'}\n",
      "[None]\n",
      "CPU times: user 7.21 ms, sys: 23.6 ms, total: 30.8 ms\n",
      "Wall time: 1.74 s\n"
     ]
    }
   ],
   "source": [
    "%%time \n",
    "import multiprocessing as mul\n",
    "\n",
    "pool = mul.Pool(5)\n",
    "rel = pool.map(infer, ['end/test2.jpg'])\n",
    "print(rel)"
   ]
  },
  {
   "cell_type": "code",
   "execution_count": null,
   "metadata": {},
   "outputs": [],
   "source": []
  }
 ],
 "metadata": {
  "kernelspec": {
   "display_name": "conda_pytorch_p36",
   "language": "python",
   "name": "conda_pytorch_p36"
  },
  "language_info": {
   "codemirror_mode": {
    "name": "ipython",
    "version": 3
   },
   "file_extension": ".py",
   "mimetype": "text/x-python",
   "name": "python",
   "nbconvert_exporter": "python",
   "pygments_lexer": "ipython3",
   "version": "3.6.10"
  }
 },
 "nbformat": 4,
 "nbformat_minor": 4
}
